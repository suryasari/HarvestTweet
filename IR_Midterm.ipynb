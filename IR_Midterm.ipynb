{
  "nbformat": 4,
  "nbformat_minor": 0,
  "metadata": {
    "colab": {
      "provenance": [],
      "authorship_tag": "ABX9TyPEkupQ2nEq/+3tByQXcskP",
      "include_colab_link": true
    },
    "kernelspec": {
      "name": "python3",
      "display_name": "Python 3"
    },
    "language_info": {
      "name": "python"
    }
  },
  "cells": [
    {
      "cell_type": "markdown",
      "metadata": {
        "id": "view-in-github",
        "colab_type": "text"
      },
      "source": [
        "<a href=\"https://colab.research.google.com/github/suryasari/HarvestTweet/blob/main/IR_Midterm.ipynb\" target=\"_parent\"><img src=\"https://colab.research.google.com/assets/colab-badge.svg\" alt=\"Open In Colab\"/></a>"
      ]
    },
    {
      "cell_type": "code",
      "source": [
        "documents = [\n",
        "    \"Dian wears a red blouse in the house.\",\n",
        "    \"Big Edi rides a big car on the road.\",\n",
        "    \"Dian rides a red car on the road.\"\n",
        "]"
      ],
      "metadata": {
        "id": "dT1ECyN6H1UZ"
      },
      "execution_count": null,
      "outputs": []
    },
    {
      "cell_type": "code",
      "source": [
        "# prompt: from document above create and display inverted index\n",
        "\n",
        "documents = [\n",
        "    \"Dian wears a red blouse in the house.\",\n",
        "    \"Big Edi rides a big car on the road.\",\n",
        "    \"Dian rides a red car on the road.\"\n",
        "]\n",
        "\n",
        "inverted_index = {}\n",
        "\n",
        "for i, document in enumerate(documents):\n",
        "  for word in document.lower().split():\n",
        "    if word not in inverted_index:\n",
        "      inverted_index[word] = []\n",
        "    inverted_index[word].append(i)\n",
        "\n",
        "for word, document_ids in inverted_index.items():\n",
        "  print(f\"{word}: {document_ids}\")\n"
      ],
      "metadata": {
        "colab": {
          "base_uri": "https://localhost:8080/"
        },
        "id": "c9PxAtRyH43Q",
        "outputId": "c2eaf6a8-1331-47e7-ae6f-8507c3f8489f"
      },
      "execution_count": null,
      "outputs": [
        {
          "output_type": "stream",
          "name": "stdout",
          "text": [
            "dian: [0, 2]\n",
            "wears: [0]\n",
            "a: [0, 1, 2]\n",
            "red: [0, 2]\n",
            "blouse: [0]\n",
            "in: [0]\n",
            "the: [0, 1, 2]\n",
            "house.: [0]\n",
            "big: [1, 1]\n",
            "edi: [1]\n",
            "rides: [1, 2]\n",
            "car: [1, 2]\n",
            "on: [1, 2]\n",
            "road.: [1, 2]\n"
          ]
        }
      ]
    },
    {
      "cell_type": "code",
      "execution_count": null,
      "metadata": {
        "id": "wvopJC1kGrSI"
      },
      "outputs": [],
      "source": [
        "import math\n",
        "\n",
        "def calculate_tfidf(documents, query):\n",
        "    \"\"\"Calculates TF-IDF weights and cosine similarity.\"\"\"\n",
        "\n",
        "    # Build term index\n",
        "    term_index = {}\n",
        "    doc_term_freqs = []\n",
        "    for doc in documents:\n",
        "        terms = doc.lower().split()\n",
        "        term_freq = {}\n",
        "        for term in terms:\n",
        "            term_freq[term] = term_freq.get(term, 0) + 1\n",
        "            if term not in term_index:\n",
        "                term_index[term] = True\n",
        "        doc_term_freqs.append(term_freq)\n",
        "\n",
        "    print(calculate_tfidf(documents, \"\"))\n",
        "\n",
        "\n"
      ]
    },
    {
      "cell_type": "code",
      "source": [
        "# prompt: show the result of calculation above\n",
        "\n",
        "import math\n",
        "\n",
        "documents = [\n",
        "    \"Dian wears a red blouse in the house.\",\n",
        "    \"Big Edi rides a big car on the road.\",\n",
        "    \"Dian rides a red car on the road.\"\n",
        "]\n",
        "\n",
        "inverted_index = {}\n",
        "\n",
        "for i, document in enumerate(documents):\n",
        "  for word in document.lower().split():\n",
        "    if word not in inverted_index:\n",
        "      inverted_index[word] = []\n",
        "    inverted_index[word].append(i)\n",
        "\n",
        "for word, document_ids in inverted_index.items():\n",
        "  print(f\"{word}: {document_ids}\")\n",
        "\n",
        "\n",
        "def calculate_tfidf(documents, query):\n",
        "    \"\"\"Calculates TF-IDF weights and cosine similarity.\"\"\"\n",
        "\n",
        "    # Build term index\n",
        "    term_index = {}\n",
        "    doc_term_freqs = []\n",
        "    for doc in documents:\n",
        "        terms = doc.lower().split()\n",
        "        term_freq = {}\n",
        "        for term in terms:\n",
        "            term_freq[term] = term_freq.get(term, 0) + 1\n",
        "            if term not in term_index:\n",
        "                term_index[term] = True\n",
        "        doc_term_freqs.append(term_freq)\n",
        "\n",
        "    print(doc_term_freqs)\n",
        "\n",
        "calculate_tfidf(documents, \"\")\n"
      ],
      "metadata": {
        "colab": {
          "base_uri": "https://localhost:8080/"
        },
        "id": "zctitWGFLLGp",
        "outputId": "517e0c94-d29c-4f6d-8c6e-213db69f3eb5"
      },
      "execution_count": null,
      "outputs": [
        {
          "output_type": "stream",
          "name": "stdout",
          "text": [
            "dian: [0, 2]\n",
            "wears: [0]\n",
            "a: [0, 1, 2]\n",
            "red: [0, 2]\n",
            "blouse: [0]\n",
            "in: [0]\n",
            "the: [0, 1, 2]\n",
            "house.: [0]\n",
            "big: [1, 1]\n",
            "edi: [1]\n",
            "rides: [1, 2]\n",
            "car: [1, 2]\n",
            "on: [1, 2]\n",
            "road.: [1, 2]\n",
            "[{'dian': 1, 'wears': 1, 'a': 1, 'red': 1, 'blouse': 1, 'in': 1, 'the': 1, 'house.': 1}, {'big': 2, 'edi': 1, 'rides': 1, 'a': 1, 'car': 1, 'on': 1, 'the': 1, 'road.': 1}, {'dian': 1, 'rides': 1, 'a': 1, 'red': 1, 'car': 1, 'on': 1, 'the': 1, 'road.': 1}]\n"
          ]
        }
      ]
    },
    {
      "cell_type": "code",
      "source": [
        "# prompt: modify the code based on query =\"red big car\" and query =\"red big car\"\n",
        "\n",
        "import math\n",
        "\n",
        "documents = [\n",
        "    \"Dian wears a red blouse in the house.\",\n",
        "    \"Big Edi rides a big car on the road.\",\n",
        "    \"Dian rides a red car on the road.\"\n",
        "]\n",
        "\n",
        "def calculate_tfidf(documents, query):\n",
        "    \"\"\"Calculates TF-IDF weights and cosine similarity.\"\"\"\n",
        "\n",
        "    # Build term index\n",
        "    term_index = {}\n",
        "    doc_term_freqs = []\n",
        "    for doc in documents:\n",
        "        terms = doc.lower().split()\n",
        "        term_freq = {}\n",
        "        for term in terms:\n",
        "            term_freq[term] = term_freq.get(term, 0) + 1\n",
        "            if term not in term_index:\n",
        "                term_index[term] = True\n",
        "        doc_term_freqs.append(term_freq)\n",
        "\n",
        "    # Calculate IDF\n",
        "    doc_count = len(documents)\n",
        "    term_doc_counts = {}\n",
        "    for term in term_index:\n",
        "        count = 0\n",
        "        for doc_freq in doc_term_freqs:\n",
        "            if term in doc_freq:\n",
        "                count += 1\n",
        "        term_doc_counts[term] = count\n",
        "\n",
        "    idfs = {}\n",
        "    for term, count in term_doc_counts.items():\n",
        "        idfs[term] = math.log(doc_count / count) if count > 0 else 0\n",
        "\n",
        "    # Calculate TF-IDF\n",
        "    tfidf_vectors = []\n",
        "    for doc_freq in doc_term_freqs:\n",
        "        vector = {}\n",
        "        for term, freq in doc_freq.items():\n",
        "            vector[term] = freq * idfs.get(term, 0)\n",
        "        tfidf_vectors.append(vector)\n",
        "\n",
        "    # Calculate Query TF-IDF\n",
        "    query_terms = query.lower().split()\n",
        "    query_freq = {}\n",
        "    for term in query_terms:\n",
        "        query_freq[term] = query_freq.get(term, 0) + 1\n",
        "    query_vector = {}\n",
        "    for term, freq in query_freq.items():\n",
        "        query_vector[term] = freq * idfs.get(term, 0)\n",
        "\n",
        "    # Calculate Cosine Similarity\n",
        "    def cosine_similarity(vec1, vec2):\n",
        "        dot_product = 0\n",
        "        magnitude1 = 0\n",
        "        magnitude2 = 0\n",
        "        all_terms = set(list(vec1.keys()) + list(vec2.keys()))\n",
        "        for term in all_terms:\n",
        "            dot_product += vec1.get(term, 0) * vec2.get(term, 0)\n",
        "            magnitude1 += vec1.get(term, 0) ** 2\n",
        "            magnitude2 += vec2.get(term, 0) ** 2\n",
        "        if magnitude1 == 0 or magnitude2 == 0:\n",
        "            return 0\n",
        "        return dot_product / (math.sqrt(magnitude1) * math.sqrt(magnitude2))\n",
        "\n",
        "    similarities = []\n",
        "    for doc_vector in tfidf_vectors:\n",
        "        similarities.append(cosine_similarity(query_vector, doc_vector))\n",
        "\n",
        "    return similarities\n",
        "\n",
        "# Example usage for query \"red big car\"\n",
        "query1 = \"red big car\"\n",
        "similarities1 = calculate_tfidf(documents, query1)\n",
        "\n",
        "# Print results for query1\n",
        "for i, similarity in enumerate(similarities1):\n",
        "    print(f\"Document {i+1} Similarity for '{query1}': {similarity}\")\n",
        "\n",
        "\n"
      ],
      "metadata": {
        "colab": {
          "base_uri": "https://localhost:8080/"
        },
        "id": "De7MECxINPuK",
        "outputId": "67539337-db3d-42a5-dbc9-e569f3bf20c7"
      },
      "execution_count": null,
      "outputs": [
        {
          "output_type": "stream",
          "name": "stdout",
          "text": [
            "Document 1 Similarity for 'red big car': 0.05842040931904405\n",
            "Document 2 Similarity for 'red big car': 0.8042357085337987\n",
            "Document 3 Similarity for 'red big car': 0.2671450861777472\n"
          ]
        }
      ]
    },
    {
      "cell_type": "code",
      "source": [
        "# prompt: show the document rank\n",
        "\n",
        "# Example usage for query \"red big car\"\n",
        "query1 = \"red big car\"\n",
        "similarities1 = calculate_tfidf(documents, query1)\n",
        "\n",
        "# Print results for query1\n",
        "for i, similarity in enumerate(similarities1):\n",
        "    print(f\"Document {i+1} Similarity for '{query1}': {similarity}\")\n",
        "\n",
        "# Rank documents for query1\n",
        "ranked_documents1 = sorted(enumerate(similarities1), key=lambda x: x[1], reverse=True)\n",
        "print(\"\\nRanked Documents for 'red big car':\")\n",
        "for i, (doc_index, similarity) in enumerate(ranked_documents1):\n",
        "    print(f\"Rank {i+1}: Document {doc_index + 1} (Similarity: {similarity})\")\n"
      ],
      "metadata": {
        "colab": {
          "base_uri": "https://localhost:8080/"
        },
        "id": "Bq2aZy6jN13Y",
        "outputId": "27b868d4-d926-4fd9-ab30-e86d7867d599"
      },
      "execution_count": null,
      "outputs": [
        {
          "output_type": "stream",
          "name": "stdout",
          "text": [
            "Document 1 Similarity for 'red big car': 0.05842040931904405\n",
            "Document 2 Similarity for 'red big car': 0.8042357085337987\n",
            "Document 3 Similarity for 'red big car': 0.2671450861777472\n",
            "\n",
            "Ranked Documents for 'red big car':\n",
            "Rank 1: Document 2 (Similarity: 0.8042357085337987)\n",
            "Rank 2: Document 3 (Similarity: 0.2671450861777472)\n",
            "Rank 3: Document 1 (Similarity: 0.05842040931904405)\n"
          ]
        }
      ]
    }
  ]
}